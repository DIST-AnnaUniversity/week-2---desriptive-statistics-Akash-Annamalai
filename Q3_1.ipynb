{
  "nbformat": 4,
  "nbformat_minor": 0,
  "metadata": {
    "colab": {
      "provenance": []
    },
    "kernelspec": {
      "name": "python3",
      "display_name": "Python 3"
    },
    "language_info": {
      "name": "python"
    }
  },
  "cells": [
    {
      "cell_type": "code",
      "source": [
        "import pandas as pd\n",
        "import io\n",
        "df = pd.read_csv('/content/sample_data/california_housing_test.csv')\n",
        "df1=df.tail(50)\n",
        "# df2=df1.dropna()\n",
        "final = pd.DataFrame(df1.latitude)\n",
        "print(final)\n",
        "\n",
        "print(\"\\nMeasure of Central Tendancy\\n***************************\")\n",
        "print(\"Mean : \",final.mean())\n",
        "print(\"Median : \",final.median())\n",
        "print(\"Mode : \",final.mode())"
      ],
      "metadata": {
        "colab": {
          "base_uri": "https://localhost:8080/"
        },
        "id": "0TF3xObcKGd_",
        "outputId": "00b7c218-70d9-454d-e7d5-15013d7732df"
      },
      "execution_count": 14,
      "outputs": [
        {
          "output_type": "stream",
          "name": "stdout",
          "text": [
            "      latitude\n",
            "2950     37.79\n",
            "2951     41.63\n",
            "2952     33.91\n",
            "2953     35.36\n",
            "2954     38.65\n",
            "2955     33.95\n",
            "2956     33.79\n",
            "2957     33.91\n",
            "2958     33.75\n",
            "2959     34.13\n",
            "2960     33.60\n",
            "2961     34.65\n",
            "2962     34.02\n",
            "2963     33.80\n",
            "2964     33.94\n",
            "2965     37.71\n",
            "2966     34.50\n",
            "2967     33.94\n",
            "2968     34.17\n",
            "2969     34.68\n",
            "2970     37.77\n",
            "2971     35.76\n",
            "2972     34.17\n",
            "2973     38.46\n",
            "2974     32.76\n",
            "2975     35.50\n",
            "2976     34.05\n",
            "2977     36.75\n",
            "2978     38.64\n",
            "2979     34.09\n",
            "2980     36.79\n",
            "2981     35.49\n",
            "2982     34.08\n",
            "2983     37.90\n",
            "2984     33.88\n",
            "2985     34.94\n",
            "2986     33.93\n",
            "2987     37.29\n",
            "2988     36.97\n",
            "2989     37.60\n",
            "2990     34.09\n",
            "2991     34.28\n",
            "2992     37.39\n",
            "2993     33.60\n",
            "2994     33.86\n",
            "2995     34.42\n",
            "2996     34.06\n",
            "2997     36.30\n",
            "2998     34.10\n",
            "2999     34.42\n",
            "\n",
            "Measure of Central Tendancy\n",
            "***************************\n",
            "Mean :  latitude    35.3044\n",
            "dtype: float64\n",
            "Median :  latitude    34.35\n",
            "dtype: float64\n",
            "Mode :     latitude\n",
            "0     33.60\n",
            "1     33.91\n",
            "2     33.94\n",
            "3     34.09\n",
            "4     34.17\n",
            "5     34.42\n"
          ]
        }
      ]
    }
  ]
}