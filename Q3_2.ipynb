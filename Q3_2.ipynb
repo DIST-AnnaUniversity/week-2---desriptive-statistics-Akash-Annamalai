{
  "nbformat": 4,
  "nbformat_minor": 0,
  "metadata": {
    "colab": {
      "provenance": []
    },
    "kernelspec": {
      "name": "python3",
      "display_name": "Python 3"
    },
    "language_info": {
      "name": "python"
    }
  },
  "cells": [
    {
      "cell_type": "code",
      "execution_count": 1,
      "metadata": {
        "id": "jYljGRk0KzzR",
        "outputId": "e75d5df9-e77d-438e-f26a-399ea21d6df6",
        "colab": {
          "base_uri": "https://localhost:8080/",
          "height": 337
        }
      },
      "outputs": [
        {
          "output_type": "execute_result",
          "data": {
            "text/plain": [
              "<matplotlib.axes._subplots.AxesSubplot at 0x7f53ec0b5690>"
            ]
          },
          "metadata": {},
          "execution_count": 1
        },
        {
          "output_type": "display_data",
          "data": {
            "text/plain": [
              "<Figure size 360x360 with 1 Axes>"
            ],
            "image/png": "[encoded data removed]"
          },
          "metadata": {
            "needs_background": "light"
          }
        }
      ],
      "source": [
        "import pandas as pd\n",
        "import io\n",
        "df = pd.read_csv('/content/sample_data/california_housing_test.csv')\n",
        "df1=df.tail(50)\n",
        "# df2=df1.dropna()\n",
        "final = pd.DataFrame(df1.latitude)\n",
        "\n",
        "final.boxplot(figsize=(5,5),fontsize='8',grid=False)"
      ]
    }
  ]
}